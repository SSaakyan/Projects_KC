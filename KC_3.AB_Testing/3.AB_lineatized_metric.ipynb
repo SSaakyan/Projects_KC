{
 "cells": [
  {
   "cell_type": "markdown",
   "id": "c1c2d37c-c4b6-4e8b-93f1-5828a1fb8441",
   "metadata": {},
   "source": [
    "# Оглавление\n",
    "1. [Задание](#introduction3)\n",
    "2. [Импорт библиотек и данных](#paragraph31)\n",
    "3. [AB-тестирование](#paragraph32)  \n",
    "    3.1 [Между группами 0 и 3](#subparagraph321)  \n",
    "    3.2 [Между группами 1 и 2](#subparagraph322)  \n",
    "4. [Вывод](#paragraph33) "
   ]
  },
  {
   "cell_type": "markdown",
   "id": "adb3720b-17d5-47e1-b20f-ecd5ec2a9af2",
   "metadata": {},
   "source": [
    "## 1. Задание <a name=\"Introduction3\"></a>"
   ]
  },
  {
   "cell_type": "markdown",
   "id": "c1978d76-8683-4af2-8c32-7de9e05cd827",
   "metadata": {},
   "source": [
    "Временной промежуток для проведения АB-теста: с 2022-11-02 по 2022-11-08 включительно.  \n",
    "Для эксперимента задействованы группы:\n",
    "- exp_group = 1 - Все по-старому (контрольная группа)\n",
    "- exp_group = 2 - Рекомендации \"похожих на лайкнутые постов\" (новый алгоритм рекомендации постов)  \n",
    "\n",
    "\n",
    "- exp_group = 0 – Все по-старому (контрольная группа)\n",
    "- exp_group = 3 - Рекомендации \"постов, которые лайкали похожие на вас люди\" (новый алгоритм рекомендации постов)\n",
    "\n",
    "**Цель:**  проверить, что новые алгоритмы во 2-й и в 3-й группах приведут к увеличению CTR.\n",
    "\n",
    "**Задача**: проанализировать результаты эксперимента и проверить, изменится ли метрика:  \n",
    "- тест между группами 0 и 3 по метрике линеаризованных лайков;\n",
    "- тест между группами 1 и 2 по метрике линеаризованных лайков\n"
   ]
  },
  {
   "cell_type": "markdown",
   "id": "bbaf9191-ab2c-41ef-bf4a-c13bb1f1b9d9",
   "metadata": {},
   "source": [
    "За критический уровень статистической значимости взято значение 0.05  "
   ]
  },
  {
   "cell_type": "markdown",
   "id": "e39f4e85-acd5-4cf7-92b8-2a80f2f616c4",
   "metadata": {},
   "source": [
    "**Описание данных:**  \n",
    "- *user_id* - уникальный идентификатор пользователя  \n",
    "- *action* - действие пользователя (view или like)  \n",
    "- *time* - время осуществления действия пользователя  \n",
    "- *exp_group* - номер экспериментальной группы"
   ]
  },
  {
   "cell_type": "markdown",
   "id": "9edc5262-ebcd-44a6-88b0-8e762d3290ed",
   "metadata": {},
   "source": [
    "## 2. Импорт библиотек и данных <a name=\"paragraph31\"></a>"
   ]
  },
  {
   "cell_type": "markdown",
   "id": "a1012879-3ae4-493f-88ca-1b577356cca8",
   "metadata": {},
   "source": [
    "Импорируем библиотеки"
   ]
  },
  {
   "cell_type": "code",
   "execution_count": 18,
   "id": "f1222a70-7a64-46fd-ba32-45d6fc7349e7",
   "metadata": {},
   "outputs": [],
   "source": [
    "import pandas as pd\n",
    "import pandahouse as ph\n",
    "from scipy import stats as st\n",
    "import matplotlib.pyplot as plt \n",
    "import seaborn as sns"
   ]
  },
  {
   "cell_type": "markdown",
   "id": "28e3a09a-0d86-4c01-804f-041dd34232c0",
   "metadata": {},
   "source": [
    "Импортируем данные"
   ]
  },
  {
   "cell_type": "code",
   "execution_count": 19,
   "id": "319e5eaf-001c-4f24-93c3-279afba9c600",
   "metadata": {},
   "outputs": [],
   "source": [
    "connection = {\n",
    "    'host': 'https://clickhouse.lab.karpov.courses',\n",
    "    'password': password,\n",
    "    'user': user,\n",
    "    'database': 'simulator_20221120'\n",
    "}"
   ]
  },
  {
   "cell_type": "code",
   "execution_count": 20,
   "id": "897b2ce1-e29f-4448-a57a-bec03a76ca08",
   "metadata": {},
   "outputs": [],
   "source": [
    "q = \"\"\"\n",
    "SELECT exp_group,\n",
    "    user_id,\n",
    "    sum(action = 'like') as likes,\n",
    "    sum(action = 'view') as views,\n",
    "    likes/views as ctr\n",
    "FROM {db}.feed_actions\n",
    "WHERE toDate(time) between '2022-11-02' and '2022-11-08'\n",
    "    and exp_group in (0,1,2,3)\n",
    "GROUP BY exp_group, user_id\n",
    "\"\"\""
   ]
  },
  {
   "cell_type": "code",
   "execution_count": 21,
   "id": "fdac1822-23b7-4a62-906f-e419cfca9451",
   "metadata": {},
   "outputs": [],
   "source": [
    "df = ph.read_clickhouse(q, connection=connection)"
   ]
  },
  {
   "cell_type": "markdown",
   "id": "90accf27-0403-45b9-88dd-c68fd9ef1770",
   "metadata": {},
   "source": [
    "## 3. AB-тестирование <a name=\"paragraph32\"></a>"
   ]
  },
  {
   "cell_type": "code",
   "execution_count": 22,
   "id": "16a49eac-969a-45dc-9f15-36c88623d2f0",
   "metadata": {},
   "outputs": [],
   "source": [
    "# Считаем общий CTR в контрольных группах:\n",
    "ctr_control_0 = df[df.exp_group == 0].likes.sum() / df[df.exp_group == 0].views.sum()\n",
    "ctr_control_1 = df[df.exp_group == 1].likes.sum() / df[df.exp_group == 1].views.sum()"
   ]
  },
  {
   "cell_type": "code",
   "execution_count": 23,
   "id": "d222eeb7-17f7-43fe-b4da-8664ae970a60",
   "metadata": {},
   "outputs": [],
   "source": [
    "# Функция для расчёта метрики:\n",
    "def get_linearized_likes(user_likes, user_views, ctr_control):\n",
    "    linearized_likes = user_likes - ctr_control * user_views\n",
    "    return linearized_likes"
   ]
  },
  {
   "cell_type": "code",
   "execution_count": 24,
   "id": "467d1d4e-7d27-4c4e-b8f4-2013dafaa273",
   "metadata": {},
   "outputs": [],
   "source": [
    "# Считаем поюзерную метрику линеаризованных лайков для групп 0 и 3:\n",
    "group0 = df[df.exp_group == 0].copy()\n",
    "group3 = df[df.exp_group == 3].copy()\n",
    "\n",
    "group0['linearized_likes'] = df.apply(\n",
    "    lambda x: get_linearized_likes(x['likes'], x['views'], ctr_control_0), axis=1)\n",
    "group3['linearized_likes'] = df.apply(\n",
    "    lambda x: get_linearized_likes(x['likes'], x['views'], ctr_control_0), axis=1)"
   ]
  },
  {
   "cell_type": "code",
   "execution_count": 25,
   "id": "ac48914d-4f99-41b0-b42f-0c7ac74edf7c",
   "metadata": {},
   "outputs": [],
   "source": [
    "# Считаем поюзерную метрику линеаризованных лайков для групп 1 и 2:\n",
    "group1 = df[df.exp_group == 1].copy()\n",
    "group2 = df[df.exp_group == 2].copy()\n",
    "\n",
    "group1['linearized_likes'] = df.apply(\n",
    "    lambda x: get_linearized_likes(x['likes'], x['views'], ctr_control_1), axis=1)\n",
    "group2['linearized_likes'] = df.apply(\n",
    "    lambda x: get_linearized_likes(x['likes'], x['views'], ctr_control_1), axis=1)"
   ]
  },
  {
   "cell_type": "markdown",
   "id": "00a3846a-dbca-4b72-834d-bec7ceccacdb",
   "metadata": {},
   "source": [
    "### 3.1 Между группами 0 и 3 <a name=\"subparagraph321\"></a>"
   ]
  },
  {
   "cell_type": "markdown",
   "id": "4e58b1df-3ff4-40de-83ad-2c3d2192961a",
   "metadata": {},
   "source": [
    "**t-тест**  \n",
    "**Нулевая гипотеза H₀:** средние значения метрики в группах 0 и 3 равны.  \n",
    "**Альтернативная гипотеза H₁:** средние значения метрики в группах 0 и 3 не равны."
   ]
  },
  {
   "cell_type": "code",
   "execution_count": 35,
   "id": "189e1345-425c-4ee9-aad9-59b408e7708d",
   "metadata": {},
   "outputs": [],
   "source": [
    "# вспомогательная \"функция\" для вывода результатов t-теста:\n",
    "def results_ttest(metric_group_a, metric_group_b, name_of_gr, name_of_metric):\n",
    "    res_ttest = st.ttest_ind(metric_group_a,metric_group_b, equal_var=False)\n",
    "    print('t-тест между группами', name_of_gr, 'по метрике', name_of_metric)\n",
    "    print('p-value:', res_ttest.pvalue)\n",
    "    if res_ttest.pvalue < 0.05: # 0.05 - крит.уровень стат.значимости\n",
    "        print('p_value < 0.05, т.е. средние измеряемой метрики в данных группах не равны')\n",
    "    else:\n",
    "        print('Не получилось отвергнуть нулевую гипотезу о равенстве средних')"
   ]
  },
  {
   "cell_type": "code",
   "execution_count": 27,
   "id": "5f264d20-330b-4a73-a4a5-e38adf1a17f3",
   "metadata": {},
   "outputs": [
    {
     "name": "stdout",
     "output_type": "stream",
     "text": [
      "t-тест между группами 0 и 3 по метрике Linearized_likes\n",
      "p-value: 5.4914249479690016e-52\n",
      "p_value < 0.05, т.е. средние измеряемой метрики в данных группах не равны\n"
     ]
    }
   ],
   "source": [
    "# t-тест по метрике линеаризованных лайков:\n",
    "results_ttest(group0.linearized_likes, group3.linearized_likes, '0 и 3', 'Linearized_likes')"
   ]
  },
  {
   "cell_type": "code",
   "execution_count": 28,
   "id": "f14ea843-5b4d-47eb-99a3-dfe410d95a8d",
   "metadata": {},
   "outputs": [
    {
     "name": "stdout",
     "output_type": "stream",
     "text": [
      "t-тест между группами 0 и 3 по метрике CTR\n",
      "p-value: 1.055849414662529e-43\n",
      "p_value < 0.05, т.е. средние измеряемой метрики в данных группах не равны\n"
     ]
    }
   ],
   "source": [
    "# t-тест по метрике ctr\n",
    "results_ttest(df[df.exp_group == 0].ctr, df[df.exp_group == 3].ctr, '0 и 3', 'CTR')"
   ]
  },
  {
   "cell_type": "markdown",
   "id": "8f29e6fa-3f56-4e7f-a8d5-76b11ef513e3",
   "metadata": {},
   "source": [
    "*Как видим, p_value при анализе новой метрики стал меньше. Тест \"прокрасился\", значит изменения есть и в исходном CTR.*"
   ]
  },
  {
   "cell_type": "markdown",
   "id": "8efdfe76-080c-4169-952d-50dd94440f7b",
   "metadata": {},
   "source": [
    "Посмотрим на средние новой метрики в данных группах и на гистограммы."
   ]
  },
  {
   "cell_type": "code",
   "execution_count": 29,
   "id": "f3125e3b-7530-45f8-a24e-c75338fe6d65",
   "metadata": {},
   "outputs": [
    {
     "data": {
      "text/plain": [
       "(7.404595766196863e-16, 1.0713337480659026)"
      ]
     },
     "execution_count": 29,
     "metadata": {},
     "output_type": "execute_result"
    }
   ],
   "source": [
    "group0.linearized_likes.mean(), group3.linearized_likes.mean()"
   ]
  },
  {
   "cell_type": "code",
   "execution_count": 30,
   "id": "12b74b63-01e7-47ce-acb3-486d9e67b3a8",
   "metadata": {},
   "outputs": [
    {
     "data": {
      "image/png": "[encoded data removed]",
      "text/plain": [
       "<Figure size 576x432 with 1 Axes>"
      ]
     },
     "metadata": {
      "needs_background": "light"
     },
     "output_type": "display_data"
    }
   ],
   "source": [
    "plt.figure(figsize=(8,6))\n",
    "plt.title(\"Распределение метрики линеаризованных лайков в группах\",size=14)\n",
    "plt.ylabel(\"Частота\",size=10)\n",
    "groups = sns.histplot(data = pd.concat([group0, group3]), \n",
    "              x='linearized_likes', \n",
    "              hue='exp_group', \n",
    "              palette = ['r', 'b'],\n",
    "              alpha=0.5,\n",
    "              kde=False)"
   ]
  },
  {
   "cell_type": "markdown",
   "id": "b17446e4-d77c-4f10-a8d3-3e94d70b001b",
   "metadata": {},
   "source": [
    "**Вывод:** Тест между группами 0 и 3 по новой метрике показал статистически значимое отличие. Как следствие, есть изменения и в пользовательских CTR. По графику и расчёту среднего можем говорить об увеличении CTR в группе 3 с новым алгоритмом рекомендации постов. "
   ]
  },
  {
   "cell_type": "markdown",
   "id": "e4f1f17e-761d-49d2-8984-0995e7e9cf8a",
   "metadata": {},
   "source": [
    "### 3.2 Между группами 1 и 2 <a name=\"subparagraph322\"></a>"
   ]
  },
  {
   "cell_type": "markdown",
   "id": "f24f284f-03c2-4b24-9ba1-8a151cdeb5bd",
   "metadata": {},
   "source": [
    "**t-тест**  \n",
    "**Нулевая гипотеза H₀:** средние значения линеаризованных лайков в 1 и 2 экспериментальных группах равны.  \n",
    "**Альтернативная гипотеза H₁:** средние значения линеаризованных лайков в 1 и 2 экспериментальных группах не равны."
   ]
  },
  {
   "cell_type": "code",
   "execution_count": 31,
   "id": "5555b8b7-2247-490e-a6dd-0ec92387f733",
   "metadata": {},
   "outputs": [
    {
     "name": "stdout",
     "output_type": "stream",
     "text": [
      "t-тест между группами 1 и 2 по метрике Linearized_likes\n",
      "p-value: 9.439432187037644e-10\n",
      "p_value < 0.05, т.е. средние измеряемой метрики в данных группах не равны\n"
     ]
    }
   ],
   "source": [
    "# t-тест по метрике линеаризованных лайков:\n",
    "results_ttest(group1.linearized_likes, group2.linearized_likes, '1 и 2', 'Linearized_likes')"
   ]
  },
  {
   "cell_type": "code",
   "execution_count": 32,
   "id": "8ab407a3-d674-4b2a-821a-d16fd3c0759f",
   "metadata": {},
   "outputs": [
    {
     "name": "stdout",
     "output_type": "stream",
     "text": [
      "t-тест между группами 1 и 2 по метрике CTR\n",
      "p-value: 0.4780623130874935\n",
      "Не получилось отвергнуть нулевую гипотезу о равенстве средних\n"
     ]
    }
   ],
   "source": [
    "# t-тест по метрике ctr:\n",
    "results_ttest(df[df.exp_group == 1].ctr, df[df.exp_group == 2].ctr, '1 и 2', 'CTR')"
   ]
  },
  {
   "cell_type": "markdown",
   "id": "7f63c423-dac1-4289-a5e6-0f7fe97de0f9",
   "metadata": {},
   "source": [
    "*p_value при анализировании новой метрики стал меньше.* \n",
    "\n",
    "*Результаты теста по первоначальной метрике CTR не позволили нам отвергнуть нулевую гипотезу о равенстве средних. Вероятнее всего, это связано с ассиметричностью данных.* \n",
    "\n",
    "*После улучшения оцениваемой метрики мы увидели, что  тест на новой метрике \"прокрасился\", а значит есть изменения и в исходном CTR.*"
   ]
  },
  {
   "cell_type": "markdown",
   "id": "47e265c7-1aa6-4105-b943-84ad280bd1a6",
   "metadata": {},
   "source": [
    "Посмотрим на средние новой метрики в данных группах и на гистограммы."
   ]
  },
  {
   "cell_type": "code",
   "execution_count": 33,
   "id": "109a21e8-de09-4b8d-92f8-f44fa741374e",
   "metadata": {},
   "outputs": [
    {
     "data": {
      "text/plain": [
       "(-4.399034300171669e-16, -0.6592771236485204)"
      ]
     },
     "execution_count": 33,
     "metadata": {},
     "output_type": "execute_result"
    }
   ],
   "source": [
    "group1.linearized_likes.mean(), group2.linearized_likes.mean()"
   ]
  },
  {
   "cell_type": "code",
   "execution_count": 34,
   "id": "2380dae9-2e7d-4e64-9c39-7b96667bb04c",
   "metadata": {},
   "outputs": [
    {
     "data": {
      "image/png": "[encoded data removed]",
      "text/plain": [
       "<Figure size 576x432 with 1 Axes>"
      ]
     },
     "metadata": {
      "needs_background": "light"
     },
     "output_type": "display_data"
    }
   ],
   "source": [
    "plt.figure(figsize=(8,6))\n",
    "plt.title(\"Распределение метрики линеаризованных лайков в группах\",size=14)\n",
    "plt.ylabel(\"Частота\",size=10)\n",
    "groups = sns.histplot(data = pd.concat([group1, group2]), \n",
    "              x='linearized_likes', \n",
    "              hue='exp_group', \n",
    "              palette = ['r', 'b'],\n",
    "              alpha=0.5,\n",
    "              kde=False)"
   ]
  },
  {
   "cell_type": "markdown",
   "id": "608266d8-04f9-44c4-bbec-89d4375b06e7",
   "metadata": {},
   "source": [
    "**Вывод:** Тест между группами 1 и 2 по новой метрике также показал, что есть статистически значимые различия по данной метрике между этими группами. И, соответственно, есть изменения и в пользовательских CTR. По графику и расчёту средних утверждать о видимом увеличении CTR в группе 2 с новым алгоритмом рекомендации постов нельзя. "
   ]
  },
  {
   "cell_type": "markdown",
   "id": "33663f72-8405-43a7-a521-8ca54fbea42e",
   "metadata": {},
   "source": [
    "## 4. Вывод <a name=\"paragraph33\"></a>"
   ]
  },
  {
   "cell_type": "markdown",
   "id": "488da745-ce49-40a3-a86b-24238535730b",
   "metadata": {},
   "source": [
    "1. Тест между группами 0 и 3 по новой метрике показал статистически значимое отличие. Как следствие, есть изменения и в пользовательских CTR. По графику и расчёту среднего можем говорить об увеличении CTR в группе 3 с новым алгоритмом рекомендации постов.\n",
    "2. Тест между группами 1 и 2 по новой метрике также показал, что есть статистически значимые различия в этой метрике между данными группами. И, соответственно, есть изменения и в пользовательских CTR. По графику и расчёту среднего утверждать о видимом увеличении CTR в группе 2 с новым алгоритмом рекомендации постов нельзя. "
   ]
  }
 ],
 "metadata": {
  "kernelspec": {
   "display_name": "Python 3",
   "language": "python",
   "name": "python3"
  },
  "language_info": {
   "codemirror_mode": {
    "name": "ipython",
    "version": 3
   },
   "file_extension": ".py",
   "mimetype": "text/x-python",
   "name": "python",
   "nbconvert_exporter": "python",
   "pygments_lexer": "ipython3",
   "version": "3.8.8"
  }
 },
 "nbformat": 4,
 "nbformat_minor": 5
}
