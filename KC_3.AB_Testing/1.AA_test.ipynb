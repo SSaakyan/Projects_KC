{
 "cells": [
  {
   "cell_type": "markdown",
   "id": "969613d5-0289-469a-ac9c-1e88d24fd896",
   "metadata": {
    "tags": []
   },
   "source": [
    "# Оглавление\n",
    "1. [Задание](#introduction1)\n",
    "2. [Импорт библиотек и данных](#paragraph11)\n",
    "3. [Проверка корректности работы системы сплитования](#paragraph12)  \n",
    "    3.1. [Первичная оценка](#subparagraph121)  \n",
    "    3.2 [АА-тест](#subparagraph122)  \n",
    "4. [Вывод](#paragraph13) "
   ]
  },
  {
   "cell_type": "markdown",
   "id": "87d8b008-1ee4-4f9d-9bfd-a94aea911200",
   "metadata": {},
   "source": [
    "## 1. Задание <a name=\"Introduction1\"></a>"
   ]
  },
  {
   "cell_type": "markdown",
   "id": "f1d11432-cb2c-4962-a779-30d08220cb67",
   "metadata": {},
   "source": [
    "Предоставлены данные АА-теста с 2022-10-26 по 2022-11-01 включительно. \n",
    "\n",
    "**Цель:** проверить работает ли система сплитования корректно.  "
   ]
  },
  {
   "cell_type": "markdown",
   "id": "3c284bea-c17c-41c0-ac18-155ceec07a4f",
   "metadata": {},
   "source": [
    "**План:**  \n",
    "- Проводим симуляцию, как будто делаем 10000 АА-тестов;\n",
    "- На каждой итерации формируются подвыборки без повторения в 500 юзеров из 2 и 3 экспериментальной группы;  \n",
    "- Проводится сравнение этих подвыборок t-testом;\n",
    "- Делаем вывод о корректности системы сплитования по результатам исследования.  \n",
    "\n",
    "За критический уровень статистической значимости взято значение 0.05  \n",
    "\n",
    "**Описание данных:**  \n",
    "- *user_id* - уникальный идентификатор пользователя  \n",
    "- *action* - действие пользователя (view или like)  \n",
    "- *time* - время осуществления действия пользователя  \n",
    "- *exp_group* - номер экспериментальной группы"
   ]
  },
  {
   "cell_type": "markdown",
   "id": "9ce7523c-5bc3-45b8-943f-384e241b9025",
   "metadata": {},
   "source": [
    "## 2. Импорт библиотек и данных <a name=\"paragraph11\"></a>"
   ]
  },
  {
   "cell_type": "markdown",
   "id": "805d9e8c-1e44-4346-9a04-bedbc7e264cd",
   "metadata": {},
   "source": [
    "Импортируем библиотеки"
   ]
  },
  {
   "cell_type": "code",
   "execution_count": 1,
   "id": "fbfd0738-70af-4aeb-9a41-af6c43156947",
   "metadata": {},
   "outputs": [],
   "source": [
    "import pandas as pd\n",
    "import pandahouse as ph\n",
    "import random\n",
    "from scipy import stats as st\n",
    "import matplotlib.pyplot as plt \n",
    "import seaborn as sns"
   ]
  },
  {
   "cell_type": "markdown",
   "id": "d7dc0b82-f370-48b7-a9b2-1ba3139e7d58",
   "metadata": {},
   "source": [
    "Импортируем данные"
   ]
  },
  {
   "cell_type": "code",
   "execution_count": 2,
   "id": "a8677539-e25b-433d-a8ff-5a622eb36116",
   "metadata": {},
   "outputs": [],
   "source": [
    "connection = {\n",
    "    'host': 'https://clickhouse.lab.karpov.courses',\n",
    "    'password': password,\n",
    "    'user': user,\n",
    "    'database': 'simulator_20221120'\n",
    "}"
   ]
  },
  {
   "cell_type": "code",
   "execution_count": 3,
   "id": "b7635c60-d332-4b43-8d77-741c378985f4",
   "metadata": {},
   "outputs": [],
   "source": [
    "q = \"\"\"\n",
    "SELECT exp_group,\n",
    "    user_id,\n",
    "    sum(action = 'like') as likes,\n",
    "    sum(action = 'view') as views,\n",
    "    likes/views as ctr\n",
    "FROM {db}.feed_actions\n",
    "WHERE toDate(time) between '2022-10-26' and '2022-11-01'\n",
    "    and exp_group in (2,3)\n",
    "GROUP BY exp_group, user_id\n",
    "\"\"\""
   ]
  },
  {
   "cell_type": "code",
   "execution_count": 4,
   "id": "9540b11e-0b1d-482b-afa7-b907535c8a8f",
   "metadata": {},
   "outputs": [],
   "source": [
    "df = ph.read_clickhouse(q, connection=connection)"
   ]
  },
  {
   "cell_type": "markdown",
   "id": "adae2d79-a636-4e77-8197-45a219140e66",
   "metadata": {},
   "source": [
    "## 3. Проверка корректности работы системы сплитования <a name=\"paragraph12\"></a>"
   ]
  },
  {
   "cell_type": "markdown",
   "id": "f2da94fd-56b3-40d3-8bb2-dfa5306c4d06",
   "metadata": {},
   "source": [
    "### 3.1. Первичная оценка <a name=\"subparagraph121\"></a>"
   ]
  },
  {
   "cell_type": "code",
   "execution_count": 5,
   "id": "329a69bd-1f15-4a66-bedf-b01437daeef4",
   "metadata": {},
   "outputs": [
    {
     "data": {
      "text/html": [
       "<div>\n",
       "<style scoped>\n",
       "    .dataframe tbody tr th:only-of-type {\n",
       "        vertical-align: middle;\n",
       "    }\n",
       "\n",
       "    .dataframe tbody tr th {\n",
       "        vertical-align: top;\n",
       "    }\n",
       "\n",
       "    .dataframe thead th {\n",
       "        text-align: right;\n",
       "    }\n",
       "</style>\n",
       "<table border=\"1\" class=\"dataframe\">\n",
       "  <thead>\n",
       "    <tr style=\"text-align: right;\">\n",
       "      <th></th>\n",
       "      <th>user_id</th>\n",
       "      <th>likes</th>\n",
       "      <th>views</th>\n",
       "      <th>ctr</th>\n",
       "    </tr>\n",
       "    <tr>\n",
       "      <th>exp_group</th>\n",
       "      <th></th>\n",
       "      <th></th>\n",
       "      <th></th>\n",
       "      <th></th>\n",
       "    </tr>\n",
       "  </thead>\n",
       "  <tbody>\n",
       "    <tr>\n",
       "      <th>2</th>\n",
       "      <td>8480</td>\n",
       "      <td>8480</td>\n",
       "      <td>8480</td>\n",
       "      <td>8480</td>\n",
       "    </tr>\n",
       "    <tr>\n",
       "      <th>3</th>\n",
       "      <td>8569</td>\n",
       "      <td>8569</td>\n",
       "      <td>8569</td>\n",
       "      <td>8569</td>\n",
       "    </tr>\n",
       "  </tbody>\n",
       "</table>\n",
       "</div>"
      ],
      "text/plain": [
       "           user_id  likes  views   ctr\n",
       "exp_group                             \n",
       "2             8480   8480   8480  8480\n",
       "3             8569   8569   8569  8569"
      ]
     },
     "execution_count": 5,
     "metadata": {},
     "output_type": "execute_result"
    }
   ],
   "source": [
    "# Посмотрим на число пользователей в каждой группе\n",
    "df.groupby('exp_group').count()"
   ]
  },
  {
   "cell_type": "markdown",
   "id": "3cdce333-618b-45df-bd16-1a1bf8d0cca8",
   "metadata": {},
   "source": [
    "Количество пользователей в экспериментальных группах примерно одинаковое, т.е. размеры групп примерно одинаковые."
   ]
  },
  {
   "cell_type": "code",
   "execution_count": 6,
   "id": "2052a699-f7f8-47db-92fd-465278fa8da1",
   "metadata": {},
   "outputs": [
    {
     "data": {
      "image/png": "[encoded data removed]",
      "text/plain": [
       "<Figure size 576x432 with 1 Axes>"
      ]
     },
     "metadata": {
      "needs_background": "light"
     },
     "output_type": "display_data"
    }
   ],
   "source": [
    "# Взглянем на графики CTR по группам:\n",
    "plt.figure(figsize=(8,6))\n",
    "plt.title(\"Распределение CTR в группах\",size=14)\n",
    "plt.ylabel(\"Частота\",size=10)\n",
    "groups = sns.histplot(data = df,\n",
    "                      x = 'ctr',\n",
    "                      hue = 'exp_group',\n",
    "                      palette = ['g','r'],\n",
    "                      alpha = 0.5,\n",
    "                      kde = False)"
   ]
  },
  {
   "cell_type": "markdown",
   "id": "e736b4d9-8808-4e6e-9ed6-8d170f6c0903",
   "metadata": {},
   "source": [
    "Как видно из графика, распределения CTR в экспериментальных группах 2 и 3 похожи."
   ]
  },
  {
   "cell_type": "markdown",
   "id": "ad334240-bed8-4b1b-b142-291dc0cdb354",
   "metadata": {},
   "source": [
    "### 3.2. АА-тест <a name=\"subparagraph122\"></a>"
   ]
  },
  {
   "cell_type": "markdown",
   "id": "3cca147f-ba2d-41bc-b3a0-7b4921145c90",
   "metadata": {},
   "source": [
    "Проведём симуляцию 10 000 АА-тестов.  \n",
    "На каждой итерации будем проводить t-тест для подвыборок без повторения в 500 юзеров из 2 и 3 экспериментальной группы.    \n",
    "**Нулевая гипотеза H₀:** средние значения ctr во 2 и в 3 экспериментальных группах равны.  \n",
    "**Альтернативная гипотеза H₁:** средние значения ctr во 2 и в 3 экспериментальных группах не равны.\n"
   ]
  },
  {
   "cell_type": "code",
   "execution_count": 7,
   "id": "7925a922-f5f3-49a2-b212-17255649bf1c",
   "metadata": {},
   "outputs": [],
   "source": [
    "p_values = []\n",
    "for _ in range(10000):\n",
    "    a1 = random.sample(list(df[df.exp_group==2].user_id),500) #подвыборкa без повторения из 2 эксп.гр.\n",
    "    a2 = random.sample(list(df[df.exp_group==3].user_id),500) #подвыборкa без повторения из 3 эксп.гр.\n",
    "    result = st.ttest_ind(df.query(\"user_id in @a1\").ctr,\n",
    "                          df.query(\"user_id in @a2\").ctr,\n",
    "                          equal_var=False) #t-test\n",
    "    p_values.append(result.pvalue) #добавление p-value в список значений p-values"
   ]
  },
  {
   "cell_type": "markdown",
   "id": "04e35e65-17b5-4d4f-b1c5-1e97608352c9",
   "metadata": {},
   "source": [
    "1. Строим гистограмму распределения получившихся 10 000 значений p-value"
   ]
  },
  {
   "cell_type": "code",
   "execution_count": 8,
   "id": "1993bda3-c493-4bde-a5f6-2ee8732435e2",
   "metadata": {},
   "outputs": [
    {
     "data": {
      "image/png": "[encoded data removed]",
      "text/plain": [
       "<Figure size 576x432 with 1 Axes>"
      ]
     },
     "metadata": {
      "needs_background": "light"
     },
     "output_type": "display_data"
    }
   ],
   "source": [
    "plt.figure(figsize=(8,6))\n",
    "plt.title(\"Распределение значений p_value при проведении симуляции 10 000 АА-тестов\",size=14)\n",
    "plt.ylabel(\"Частота\",size=10)\n",
    "plt.xlabel(\"p_value\",size=10)\n",
    "groups = plt.hist(p_values)"
   ]
  },
  {
   "cell_type": "markdown",
   "id": "72b8f670-516e-494c-8422-1ed4fac092b0",
   "metadata": {},
   "source": [
    "Исходя из графика, бОльшая часть полученных значений p_value больше 0.05 (критического уровня статистической значимости)"
   ]
  },
  {
   "cell_type": "markdown",
   "id": "6d4159f2-c20b-49a9-af13-3684e8c30205",
   "metadata": {},
   "source": [
    "2. Сосчитаем процент p-values, которые оказались меньше либо равны 0.05 (т.е. процент тех значений p_value, когда можем отвергнуть нулевую гипотезу)"
   ]
  },
  {
   "cell_type": "code",
   "execution_count": 9,
   "id": "78528ec1-1586-4fb5-b1b0-16d3438e6945",
   "metadata": {},
   "outputs": [
    {
     "data": {
      "text/plain": [
       "p_val    0.048\n",
       "dtype: float64"
      ]
     },
     "execution_count": 9,
     "metadata": {},
     "output_type": "execute_result"
    }
   ],
   "source": [
    "(pd.DataFrame(p_values, columns=['p_val'])\n",
    ".query('p_val <= 0.05')\n",
    ".count()\n",
    " /len(p_values)\n",
    ")"
   ]
  },
  {
   "cell_type": "markdown",
   "id": "cb45a2e3-2914-4cb3-94a3-d39740f4a6d9",
   "metadata": {},
   "source": [
    "Таким образом, вероятность получить статистически значимые различия между 2 и 3 эксперим.группами приблизительно равна 0.05, т.е. только в 5% случаев мы можем получить стат.значимые различия между этими группами. Тем самым, можем утверждать о корректности работы системы сплитования."
   ]
  },
  {
   "cell_type": "markdown",
   "id": "e6a7cc21-5f67-43c4-96f5-db25b62ca38b",
   "metadata": {},
   "source": [
    "## 4. Вывод <a name=\"paragraph13\"></a>"
   ]
  },
  {
   "cell_type": "markdown",
   "id": "9c98e8f5-f7f3-4806-a533-d986a6b650c9",
   "metadata": {},
   "source": [
    "Учитывая проведенный анализ, можем утверждать,что наша система сплитования работает корректно."
   ]
  }
 ],
 "metadata": {
  "kernelspec": {
   "display_name": "Python 3",
   "language": "python",
   "name": "python3"
  },
  "language_info": {
   "codemirror_mode": {
    "name": "ipython",
    "version": 3
   },
   "file_extension": ".py",
   "mimetype": "text/x-python",
   "name": "python",
   "nbconvert_exporter": "python",
   "pygments_lexer": "ipython3",
   "version": "3.8.8"
  }
 },
 "nbformat": 4,
 "nbformat_minor": 5
}
