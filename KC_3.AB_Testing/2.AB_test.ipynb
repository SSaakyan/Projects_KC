{
 "cells": [
  {
   "cell_type": "markdown",
   "id": "64400326-08ed-430c-a899-3f0fd53c0e89",
   "metadata": {
    "tags": []
   },
   "source": [
    "# Оглавление\n",
    "1. [Задание](#introduction)\n",
    "2. [Импорт библиотек и данных](#paragraph1)\n",
    "3. [AB-тестирование](#paragraph2)  \n",
    "    3.1 [t-тест](#subparagraph1)  \n",
    "    3.2 [Тест Манна-Уитни](#subparagraph2)  \n",
    "    3.3 [t-тест на сглаженном ctr](#subparagraph3)  \n",
    "    3.4 [Пуассоновский бутстреп](#subparagraph4)  \n",
    "    3.5 [t-тест поверх бакетного преобразования](#subparagraph5)   \n",
    "    3.6 [Тест Манна-Уитни поверх бакетного преобразования](#subparagraph6)  \n",
    "4. [Вывод](#paragraph3)"
   ]
  },
  {
   "cell_type": "markdown",
   "id": "c76836ae-0d55-4db8-b0ac-b4736671c350",
   "metadata": {
    "tags": []
   },
   "source": [
    "## 1. Задание <a name=\"Introduction\"></a>"
   ]
  },
  {
   "cell_type": "markdown",
   "id": "7a4a70ee-b8ed-41c4-baf8-1fdecf5c80f5",
   "metadata": {},
   "source": [
    "Эксперимент проводился с 2022-11-02 по 2022-11-08 включительно.  \n",
    "Для эксперимента были задействованы 1 и 2 группы:\n",
    "- exp_group = 1 - Все по-старому (контрольная группа)\n",
    "- exp_group = 2 - Рекомендации \"похожих на лайкнутые постов\" (новый алгоритм рекомендации постов)\n",
    "\n",
    "**Цель:** дать рекомендацию, стоит ли раскатывать новый алгоритм на всех новых пользователей.\n",
    "\n",
    "**Задача**: проанализировать результаты эксперимента и проверить изменится ли метрика CTR."
   ]
  },
  {
   "cell_type": "markdown",
   "id": "e790c909-60a3-4752-a870-a6f40d5e1ec7",
   "metadata": {},
   "source": [
    "За критический уровень статистической значимости взято значение 0.05  "
   ]
  },
  {
   "cell_type": "markdown",
   "id": "954301ef-7f36-4051-a6cc-4e6dcedff189",
   "metadata": {},
   "source": [
    "**Описание данных:**  \n",
    "- *user_id* - уникальный идентификатор пользователя  \n",
    "- *action* - действие пользователя (view или like)  \n",
    "- *time* - время осуществления действия пользователя  \n",
    "- *exp_group* - номер экспериментальной группы"
   ]
  },
  {
   "cell_type": "markdown",
   "id": "c8b8271e-0e7a-4649-a85f-aebe4be2ea92",
   "metadata": {},
   "source": [
    "## 2. Импорт библиотек и данных <a name=\"paragraph1\"></a>"
   ]
  },
  {
   "cell_type": "markdown",
   "id": "1f6e7c3e-49cc-424f-87bf-9565a668f9f7",
   "metadata": {},
   "source": [
    "Импортируем библиотеки"
   ]
  },
  {
   "cell_type": "code",
   "execution_count": 1,
   "id": "42721fa1-f3f9-40d8-82aa-08f5e221e686",
   "metadata": {},
   "outputs": [],
   "source": [
    "import pandas as pd\n",
    "import pandahouse as ph\n",
    "from scipy import stats as st\n",
    "import numpy as np\n",
    "import matplotlib.pyplot as plt \n",
    "import seaborn as sns"
   ]
  },
  {
   "cell_type": "markdown",
   "id": "354eb2eb-f333-48b8-97f6-56dd434bfe93",
   "metadata": {},
   "source": [
    "Импортируем данные"
   ]
  },
  {
   "cell_type": "code",
   "execution_count": 2,
   "id": "54ccf92f-c418-4ccd-9fe4-de19a7fa15ad",
   "metadata": {},
   "outputs": [],
   "source": [
    "connection = {\n",
    "    'host': 'https://clickhouse.lab.karpov.courses',\n",
    "    'password': password,\n",
    "    'user': user,\n",
    "    'database': 'simulator_20221120'\n",
    "}"
   ]
  },
  {
   "cell_type": "code",
   "execution_count": 3,
   "id": "54a635be-3ca6-4dc8-821f-e375b0d6bd7e",
   "metadata": {},
   "outputs": [],
   "source": [
    "q = \"\"\"\n",
    "SELECT exp_group,\n",
    "    user_id,\n",
    "    sum(action = 'like') as likes,\n",
    "    sum(action = 'view') as views,\n",
    "    likes/views as ctr\n",
    "FROM {db}.feed_actions\n",
    "WHERE toDate(time) between '2022-11-02' and '2022-11-08'\n",
    "    and exp_group in (1,2)\n",
    "GROUP BY exp_group, user_id\n",
    "\"\"\""
   ]
  },
  {
   "cell_type": "code",
   "execution_count": 4,
   "id": "16616786-b0b5-4dcf-97ba-114beedcadbd",
   "metadata": {},
   "outputs": [],
   "source": [
    "df = ph.read_clickhouse(q, connection=connection)"
   ]
  },
  {
   "cell_type": "markdown",
   "id": "9e5a0a60-6ee8-4ce3-8d8e-49e68c1aaffd",
   "metadata": {
    "tags": []
   },
   "source": [
    "## 3. AB-тестирование <a name=\"paragraph2\"></a>"
   ]
  },
  {
   "cell_type": "markdown",
   "id": "6633c718-8ee9-4dde-918e-4fe9575aebca",
   "metadata": {},
   "source": [
    "### 3.1 t-тест <a name=\"subparagraph1\"></a>"
   ]
  },
  {
   "cell_type": "markdown",
   "id": "f9966055-ab53-4780-817e-458349a1e610",
   "metadata": {},
   "source": [
    "**Нулевая гипотеза H₀:** средние значения ctr в 1 и 2 экспериментальных группах равны.  \n",
    "**Альтернативная гипотеза H₁:** средние значения ctr в 1 и 2 экспериментальных группах не равны."
   ]
  },
  {
   "cell_type": "code",
   "execution_count": 5,
   "id": "797ba619-92c0-42df-ae11-8807d26783f2",
   "metadata": {},
   "outputs": [],
   "source": [
    "res_ttest = st.ttest_ind(df[df.exp_group == 1].ctr,\n",
    "                       df[df.exp_group == 2].ctr,\n",
    "                       equal_var=False)"
   ]
  },
  {
   "cell_type": "code",
   "execution_count": 6,
   "id": "d7e93c5f-64a2-4a8e-962a-74120d51a066",
   "metadata": {},
   "outputs": [],
   "source": [
    "# вспомог.\"функция\" для вывода результатов теста:\n",
    "def concl(name_test, results, alpha):\n",
    "    print(name_test)\n",
    "    print('p-значение:', results.pvalue)\n",
    "    if results.pvalue < alpha: # alpha - крит.уровень стат.значимости\n",
    "        print('Отвергаем нулевую гипотезу')\n",
    "    else:\n",
    "        print('Не получилось отвергнуть нулевую гипотезу') "
   ]
  },
  {
   "cell_type": "code",
   "execution_count": 7,
   "id": "af7b667c-327c-445d-9a3f-d2acae3139e2",
   "metadata": {},
   "outputs": [
    {
     "name": "stdout",
     "output_type": "stream",
     "text": [
      "t-тест:\n",
      "p-значение: 0.4780623130874935\n",
      "Не получилось отвергнуть нулевую гипотезу\n"
     ]
    }
   ],
   "source": [
    "concl('t-тест:', res_ttest, 0.05)"
   ]
  },
  {
   "cell_type": "markdown",
   "id": "f43cdae8-b6b7-4fd2-aa9a-2fda835adadb",
   "metadata": {},
   "source": [
    "Посмотрим на гистограммы ctr в группах"
   ]
  },
  {
   "cell_type": "code",
   "execution_count": 8,
   "id": "fe453a0f-b2f6-4096-8866-535a7d2fecb7",
   "metadata": {},
   "outputs": [
    {
     "data": {
      "image/png": "[encoded data removed]",
      "text/plain": [
       "<Figure size 576x432 with 1 Axes>"
      ]
     },
     "metadata": {
      "needs_background": "light"
     },
     "output_type": "display_data"
    }
   ],
   "source": [
    "plt.figure(figsize=(8,6))\n",
    "plt.title(\"Распределение CTR в группах\",size=14)\n",
    "plt.ylabel(\"Частота\",size=10)\n",
    "groups = sns.histplot(data = df, \n",
    "              x='ctr', \n",
    "              hue='exp_group', \n",
    "              palette = ['r', 'b'],\n",
    "              alpha=0.5,\n",
    "              kde=False)"
   ]
  },
  {
   "cell_type": "markdown",
   "id": "4d588843-2abd-4c52-af75-0d87b5f4ce7c",
   "metadata": {},
   "source": [
    "По графикам видим, что в группе 2 данные искажены (наблюдается ассиметрия), поэтому использование t-теста не лучший вариант."
   ]
  },
  {
   "cell_type": "markdown",
   "id": "8f6d00da-dcb6-492e-acf2-5ad45fedcc31",
   "metadata": {},
   "source": [
    "### 3.2 Тест Манна-Уитни <a name=\"subparagraph2\"></a>"
   ]
  },
  {
   "cell_type": "markdown",
   "id": "c11c8272-d6d1-4cbb-8217-5b33f1d2abe4",
   "metadata": {},
   "source": [
    "**Нулевая гипотеза H₀:** вероятность, что ctr гр. 1 больше ctr гр. 2 равна вероятности, что ctr гр.2 больше ctr гр.1  \n",
    "**Альтернативная гипотеза H₁:** вероятность, что ctr гр. 1 больше ctr гр. 2 не равна вероятности, что ctr гр.2 больше ctr гр.1"
   ]
  },
  {
   "cell_type": "code",
   "execution_count": 9,
   "id": "2ade9a57-cdf2-45fd-8580-71d860300111",
   "metadata": {},
   "outputs": [],
   "source": [
    "res_mann = st.mannwhitneyu(df[df.exp_group == 1].ctr, \n",
    "                   df[df.exp_group == 2].ctr,\n",
    "                   alternative = 'two-sided')"
   ]
  },
  {
   "cell_type": "code",
   "execution_count": 10,
   "id": "a583f878-d096-4b06-9785-0b95a21316b8",
   "metadata": {},
   "outputs": [
    {
     "name": "stdout",
     "output_type": "stream",
     "text": [
      "Тест Манна-Уитни:\n",
      "p-значение: 6.0376484617779035e-56\n",
      "Отвергаем нулевую гипотезу\n"
     ]
    }
   ],
   "source": [
    "concl('Тест Манна-Уитни:', res_mann, 0.05)"
   ]
  },
  {
   "cell_type": "markdown",
   "id": "55f556f6-a2ce-4886-8db7-b641b7b8130f",
   "metadata": {},
   "source": [
    "### 3.3 t-тест на сглаженном ctr <a name=\"subparagraph3\"></a>"
   ]
  },
  {
   "cell_type": "code",
   "execution_count": 11,
   "id": "fd1ee5f1-fde7-4954-bdf9-6f066447079e",
   "metadata": {},
   "outputs": [],
   "source": [
    "# функция для расчёта сглаженного ctr\n",
    "def get_smothed_ctr(user_likes, user_views, global_ctr, alpha):\n",
    "    smothed_ctr = (user_likes + alpha * global_ctr) / (user_views + alpha)\n",
    "    return smothed_ctr"
   ]
  },
  {
   "cell_type": "code",
   "execution_count": 12,
   "id": "2b5bbb3e-f22f-4580-876b-980c35e17b16",
   "metadata": {},
   "outputs": [],
   "source": [
    "# считаем глобальный ctr в 1 и 2 группах:\n",
    "global_ctr_1 = df[df.exp_group == 1].likes.sum()/df[df.exp_group == 1].views.sum()\n",
    "global_ctr_2 = df[df.exp_group == 2].likes.sum()/df[df.exp_group == 2].views.sum()"
   ]
  },
  {
   "cell_type": "code",
   "execution_count": 13,
   "id": "6b733816-9916-483a-aa81-79f3d70a3bce",
   "metadata": {},
   "outputs": [],
   "source": [
    "# считаем сглаженный ctr для 1 и 2 групп, размер гиперпараметра берём равный 5:\n",
    "group1 = df[df.exp_group == 1].copy()\n",
    "group1['smothed_ctr'] = df.apply(\n",
    "    lambda x: get_smothed_ctr(x['likes'],x['views'],global_ctr_1, 5), axis=1)\n",
    "\n",
    "group2 = df[df.exp_group == 2].copy()\n",
    "group2['smothed_ctr'] = df.apply(\n",
    "    lambda x: get_smothed_ctr(x['likes'],x['views'],global_ctr_2, 5), axis=1)"
   ]
  },
  {
   "cell_type": "markdown",
   "id": "e1cf8c27-4181-455f-9b22-eb393a2f6eed",
   "metadata": {},
   "source": [
    "Проводим t-тест."
   ]
  },
  {
   "cell_type": "markdown",
   "id": "8b919345-2bb4-4da2-943d-9c7ef3efa5b1",
   "metadata": {},
   "source": [
    "**Нулевая гипотеза H₀:** средние значения сглаженных ctr в 1 и 2 экспериментальных группах равны.  \n",
    "**Альтернативная гипотеза H₁:** средние значения сглаженных ctr в 1 и 2 экспериментальных группах не равны."
   ]
  },
  {
   "cell_type": "code",
   "execution_count": 14,
   "id": "a83ac00b-9843-4804-acf1-fadac9470096",
   "metadata": {},
   "outputs": [
    {
     "name": "stdout",
     "output_type": "stream",
     "text": [
      "t-тест на сглаженном ctr:\n",
      "p-значение: 0.0223769815558559\n",
      "Отвергаем нулевую гипотезу\n"
     ]
    }
   ],
   "source": [
    "res_smoothed_ctr_ttest = st.ttest_ind(group1.smothed_ctr,\n",
    "                       group2.smothed_ctr,\n",
    "                       equal_var=False)\n",
    "concl('t-тест на сглаженном ctr:', res_smoothed_ctr_ttest, 0.05)"
   ]
  },
  {
   "cell_type": "markdown",
   "id": "b26e7b8a-911c-4353-b418-a011bebc240b",
   "metadata": {},
   "source": [
    "### 3.4 Пуассоновский бутстреп <a name=\"subparagraph4\"></a>"
   ]
  },
  {
   "cell_type": "code",
   "execution_count": 15,
   "id": "df15e0f6-7515-464c-900f-b98be6d92a5c",
   "metadata": {},
   "outputs": [],
   "source": [
    "# функция для получения распределений глобальных ctr в двух группах с использованием бутстрепа:\n",
    "def bootstrap(likes1, views1, likes2, views2, n_bootstrap=3000):\n",
    "\n",
    "    poisson_bootstraps1 = st.poisson(1).rvs(\n",
    "        (n_bootstrap, len(likes1))).astype(np.int64)\n",
    "\n",
    "    poisson_bootstraps2 = st.poisson(1).rvs(\n",
    "            (n_bootstrap, len(likes2))).astype(np.int64)\n",
    "    \n",
    "    globalCTR1 = (poisson_bootstraps1*likes1).sum(axis=1)/(poisson_bootstraps1*views1).sum(axis=1)\n",
    "    \n",
    "    globalCTR2 = (poisson_bootstraps2*likes2).sum(axis=1)/(poisson_bootstraps2*views2).sum(axis=1)\n",
    "\n",
    "    return globalCTR1, globalCTR2"
   ]
  },
  {
   "cell_type": "code",
   "execution_count": 16,
   "id": "942a7a2d-7a72-4cad-a795-8567ca8340fa",
   "metadata": {},
   "outputs": [],
   "source": [
    "# находим распределения глобальных ctr для групп 1, 2\n",
    "likes1 = df[df.exp_group == 1].likes.to_numpy()\n",
    "views1 = df[df.exp_group == 1].views.to_numpy()\n",
    "likes2 = df[df.exp_group == 2].likes.to_numpy()\n",
    "views2 = df[df.exp_group == 2].views.to_numpy()\n",
    "\n",
    "ctr1, ctr2 = bootstrap(likes1, views1, likes2, views2)"
   ]
  },
  {
   "cell_type": "markdown",
   "id": "192641c8-67cd-434e-b655-8a3b0658f831",
   "metadata": {},
   "source": [
    "Посмотрим на гистограмму разности глобальных ctr"
   ]
  },
  {
   "cell_type": "code",
   "execution_count": 17,
   "id": "d5760cf8-c20a-4c2a-aa6c-55c51e301014",
   "metadata": {},
   "outputs": [
    {
     "data": {
      "image/png": "[encoded data removed]",
      "text/plain": [
       "<Figure size 576x432 with 1 Axes>"
      ]
     },
     "metadata": {
      "needs_background": "light"
     },
     "output_type": "display_data"
    }
   ],
   "source": [
    "plt.figure(figsize=(8,6))\n",
    "plt.title(\"Распределение разности глобальных CTR при использовании бутстрепа\",size=14)\n",
    "plt.ylabel(\"Частота\",size=10)\n",
    "plt.xlabel(\"Разность глоб. ctr группы 2 и глоб. ctr группы 1\",size=10)\n",
    "diff = sns.histplot(ctr2-ctr1)"
   ]
  },
  {
   "cell_type": "markdown",
   "id": "95fab2c6-f8ac-4162-a861-ecc7afdd9ab9",
   "metadata": {},
   "source": [
    "По графику видно, что разность не достигает 0 , т.е. имеем различия в глобальных ctr. Также глобальный ctr в первой группе больше глобального ctr во второй группе. На основе этого можем утверждать, что в тестовой группе ctr меньше, чем в контрольной."
   ]
  },
  {
   "cell_type": "markdown",
   "id": "2c67622d-34c6-4907-9929-fedca370d1d8",
   "metadata": {},
   "source": [
    "Проведем t-test"
   ]
  },
  {
   "cell_type": "markdown",
   "id": "ac9f2360-ac9e-48c7-b8e0-05113383bb80",
   "metadata": {},
   "source": [
    "**Нулевая гипотеза H₀:** средние значения глобальных ctr в 1 и 2 экспериментальных группах равны.  \n",
    "**Альтернативная гипотеза H₁:** средние значения глобальных ctr в 1 и 2 экспериментальных группах не равны."
   ]
  },
  {
   "cell_type": "code",
   "execution_count": 18,
   "id": "019f9c00-c617-49b0-a871-03c39cf28bda",
   "metadata": {},
   "outputs": [
    {
     "name": "stdout",
     "output_type": "stream",
     "text": [
      "t-тест по метрике глобальных ctr при использовании пуассоновского бутстрепа:\n",
      "p-значение: 0.0\n",
      "Отвергаем нулевую гипотезу\n"
     ]
    }
   ],
   "source": [
    "bootstrap_ttest = st.ttest_ind(ctr1,\n",
    "                       ctr2,\n",
    "                       equal_var=False)\n",
    "concl('t-тест по метрике глобальных ctr при использовании пуассоновского бутстрепа:', bootstrap_ttest, 0.05)"
   ]
  },
  {
   "cell_type": "markdown",
   "id": "4b13ca65-45c5-42df-8e9c-da6b7c84161f",
   "metadata": {},
   "source": [
    "По t-тесту также получаем различие в средних глобальных ctr между группами 1 и 2."
   ]
  },
  {
   "cell_type": "markdown",
   "id": "5c854410-2a01-42ec-9cae-1f25504846d5",
   "metadata": {},
   "source": [
    "### 3.5 t-тест поверх бакетного преобразования <a name=\"subparagraph5\"></a>"
   ]
  },
  {
   "cell_type": "markdown",
   "id": "14795e42-14dd-4f7b-a248-119295314837",
   "metadata": {},
   "source": [
    "Импортируем данные для бакетного преобразования (количество бакетов берём 200, исходя из обычной практики (статьи) Авито и VK)"
   ]
  },
  {
   "cell_type": "code",
   "execution_count": 19,
   "id": "58aba609-77f8-4e3e-a0ed-c66e55052bea",
   "metadata": {},
   "outputs": [],
   "source": [
    "q = \"\"\"\n",
    "\n",
    "SELECT exp_group, bucket,\n",
    "    sum(likes)/sum(views) as bucket_ctr\n",
    "FROM (SELECT exp_group, \n",
    "        xxHash64(user_id)%200 as bucket,\n",
    "        user_id,\n",
    "        sum(action = 'like') as likes,\n",
    "        sum(action = 'view') as views,\n",
    "        likes/views as ctr\n",
    "    FROM {db}.feed_actions \n",
    "    WHERE toDate(time) between '2022-11-02' and '2022-11-08'\n",
    "        and exp_group in (1,2)\n",
    "    GROUP BY exp_group, bucket, user_id)\n",
    "GROUP BY exp_group, bucket\n",
    "\"\"\"\n",
    "\n",
    "df_b = ph.read_clickhouse(q, connection=connection)"
   ]
  },
  {
   "cell_type": "markdown",
   "id": "bb7d5418-246b-48f6-b73f-c6a8bf7223a8",
   "metadata": {},
   "source": [
    "Посмотрим на распределения побакетного ctr"
   ]
  },
  {
   "cell_type": "code",
   "execution_count": 20,
   "id": "3f9aec1f-3c9b-4cc7-b4ee-faec5d7c2367",
   "metadata": {},
   "outputs": [
    {
     "data": {
      "image/png": "[encoded data removed]",
      "text/plain": [
       "<Figure size 576x432 with 1 Axes>"
      ]
     },
     "metadata": {
      "needs_background": "light"
     },
     "output_type": "display_data"
    }
   ],
   "source": [
    "plt.figure(figsize=(8,6))\n",
    "plt.title(\"Распределение побакетного CTR в группах\",size=14)\n",
    "plt.ylabel(\"Частота\",size=10)\n",
    "groups = sns.histplot(data = df_b, \n",
    "              x='bucket_ctr', \n",
    "              hue='exp_group', \n",
    "              palette = ['r', 'b'],\n",
    "              alpha=0.5,\n",
    "              kde=False)"
   ]
  },
  {
   "cell_type": "markdown",
   "id": "bd1cad7b-339f-4d14-a6ce-1c19fada0ea8",
   "metadata": {},
   "source": [
    "На графике видно, что побакетный ctr группы 1 в среднем больше побакетного ctr группы 2. Также видим, что распределения похожи на нормальные."
   ]
  },
  {
   "cell_type": "markdown",
   "id": "7597dce0-726b-4fb3-9c77-fee57c7b90fa",
   "metadata": {},
   "source": [
    "Проведём t-тест"
   ]
  },
  {
   "cell_type": "markdown",
   "id": "65bfd1dd-2fd5-42e6-a819-c99af365d530",
   "metadata": {},
   "source": [
    "**Нулевая гипотеза H₀:** средние значения побакетного ctr  в 1 и 2 экспериментальных группах равны.  \n",
    "**Альтернативная гипотеза H₁:** средние значения побакетного ctr в 1 и 2 экспериментальных группах не равны."
   ]
  },
  {
   "cell_type": "code",
   "execution_count": 21,
   "id": "fab9576d-fa53-4b2d-8409-5201c0ec0b9d",
   "metadata": {},
   "outputs": [
    {
     "name": "stdout",
     "output_type": "stream",
     "text": [
      "t-тест по метрике побакетного ctr:\n",
      "p-значение: 6.483418342277103e-10\n",
      "Отвергаем нулевую гипотезу\n"
     ]
    }
   ],
   "source": [
    "bucket_ttest = st.ttest_ind(df_b[df_b.exp_group == 1].bucket_ctr,\n",
    "                       df_b[df_b.exp_group == 2].bucket_ctr,\n",
    "                       equal_var=False)\n",
    "\n",
    "concl('t-тест по метрике побакетного ctr:', bucket_ttest, 0.05)"
   ]
  },
  {
   "cell_type": "markdown",
   "id": "b7c1fcd6-ad05-4f1f-8620-9845701593f1",
   "metadata": {},
   "source": [
    "### 3.6 Тест Манна-Уитни поверх бакетного преобразования <a name=\"subparagraph6\"></a>"
   ]
  },
  {
   "cell_type": "markdown",
   "id": "d8f5c51b-1fee-40cd-9080-37a152acc9b3",
   "metadata": {},
   "source": [
    "**Нулевая гипотеза H₀:** вероятность, что побакетный ctr гр. 1 больше побакетного ctr гр. 2 равна вероятности, что побакетный ctr гр.2 больше побакетного ctr гр.1  \n",
    "**Альтернативная гипотеза H₁:** вероятность, что побакетный ctr гр. 1 больше побакетного ctr гр. 2 не равна вероятности, что побакетный ctr гр.2 больше побакетного ctr гр.1  "
   ]
  },
  {
   "cell_type": "code",
   "execution_count": 22,
   "id": "7b93e464-2ac3-4ab1-9703-cc009e24f642",
   "metadata": {},
   "outputs": [
    {
     "name": "stdout",
     "output_type": "stream",
     "text": [
      "t-тест поверх бакетного преобразования:\n",
      "p-значение: 5.074234405206183e-10\n",
      "Отвергаем нулевую гипотезу\n"
     ]
    }
   ],
   "source": [
    "bucket_mann = st.mannwhitneyu(df_b[df_b.exp_group == 1].bucket_ctr, \n",
    "                   df_b[df_b.exp_group == 2].bucket_ctr,\n",
    "                   alternative = 'two-sided')\n",
    "concl('t-тест поверх бакетного преобразования:', bucket_mann, 0.05)"
   ]
  },
  {
   "cell_type": "markdown",
   "id": "bb6d8aeb-5700-4517-bc17-f83522d82960",
   "metadata": {},
   "source": [
    "## 4. Вывод <a name=\"paragraph3\"></a>"
   ]
  },
  {
   "cell_type": "markdown",
   "id": "1d939b3d-5fae-428a-85bc-9f157c4cd997",
   "metadata": {},
   "source": [
    "- С учётом наличия ассиметричности данных использование t-теста нецелесообразно. Ассиметричность данных в группе 2 может быть связана, например, с тем, что алгоритм работает некорректно: в ленте повторяются интересные посты, которым уже ставили лайк и нет возможности поставить его снова (т.е. пользователь может псмотреть понравившийся пост снова, но поставить снова лайк не может). Также можно проверить корректность работы кнопки \"лайк\" (т.е. пользователь не может поставить лайк или лайк \"не считывается\").\n",
    "- Для нашего исследования на таких (ассиметричных) данных рациональнее использовать либо Пуассоновский бутстреп с оценкой глобальных ctr, либо t-тест, тест Манна-Уитни поверх бакетного преобразования c оценкой побакетных ctr.\n",
    "- При анализе разницы в глобальных ctr и анализе побакетных ctr между группами 1 и 2 мы отметили, что ситуация с оцениваемыми метриками в группе 2 ухудшилась. Поэтому раскатывать новый алгоритм в текущем варианте на всех новых пользователей не рекомендуется."
   ]
  }
 ],
 "metadata": {
  "kernelspec": {
   "display_name": "Python 3",
   "language": "python",
   "name": "python3"
  },
  "language_info": {
   "codemirror_mode": {
    "name": "ipython",
    "version": 3
   },
   "file_extension": ".py",
   "mimetype": "text/x-python",
   "name": "python",
   "nbconvert_exporter": "python",
   "pygments_lexer": "ipython3",
   "version": "3.8.8"
  }
 },
 "nbformat": 4,
 "nbformat_minor": 5
}
